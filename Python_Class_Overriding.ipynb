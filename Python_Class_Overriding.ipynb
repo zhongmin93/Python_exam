{
 "cells": [
  {
   "cell_type": "markdown",
   "metadata": {},
   "source": [
    "## ptyhon에서는 overloading을 제공하지 않는다.\n",
    "\n",
    "# 다음과 같이 자동차를 나타내는 Car 클래스를 구현한다.\n",
    "\n",
    "- 이 클래스는 최고 속도를 의미하는 max_speed라는 속성과 현재 속도를 나타내는 speed라는 속성을 가진다.\n",
    "- 객체 생성시 max_speed 속성은 160이 되고 speed 속성은 0이 된다.\n",
    "- speed_up, speed_down이라는 메서드를 가진다. speed_up을 호출하면 speed 속성이 20씩 증가하고 speed_down을 호출하면 speed 속성이 20씩 감소한다.\n",
    "- 스피드 속성 speed의 값은 max_speed 속성 값, 즉 160을 넘을 수 없다. 또 0 미만으로 감소할 수도 없다.\n",
    "- 메서드는 호출시 속도 정보를 출력하고 명시적인 반환값을 가지지 않는다.\n",
    "\n",
    "- 위 기능이 모두 정상적으로 구현되었음을 보이는 코드를 추가한다."
   ]
  },
  {
   "cell_type": "code",
   "execution_count": 2,
   "metadata": {},
   "outputs": [],
   "source": [
    "class Car(object):\n",
    "    \n",
    "    def __init__(self):\n",
    "        self.max_speed = 160 #최고속도\n",
    "        self.speed = 0 #현재속도\n",
    "        \n",
    "    def speed_up(self):\n",
    "        if self.speed >= 160:\n",
    "            print('최고 속도를 넘을 수 없습니다.', self.speed)\n",
    "        else:\n",
    "            self.speed += 20\n",
    "            print('속도가 증가하였습니다. 현재 속도 : ', self.speed)   \n",
    "    \n",
    "    def speed_down(self):\n",
    "        if self.speed <= 0:\n",
    "            print('더 이상 속도를 줄일 수 없습니다.', self.speed)   \n",
    "        else:\n",
    "            self.speed -= 20\n",
    "            print('속도가 감소하였습니다.',self.speed)"
   ]
  },
  {
   "cell_type": "code",
   "execution_count": 3,
   "metadata": {},
   "outputs": [
    {
     "name": "stdout",
     "output_type": "stream",
     "text": [
      "160\n",
      "0\n",
      "속도가 증가하였습니다. 현재 속도 :  20\n",
      "None\n",
      "속도가 증가하였습니다. 현재 속도 :  40\n",
      "None\n",
      "속도가 증가하였습니다. 현재 속도 :  60\n",
      "None\n",
      "속도가 증가하였습니다. 현재 속도 :  80\n",
      "None\n",
      "속도가 감소하였습니다. 60\n",
      "None\n",
      "속도가 감소하였습니다. 40\n",
      "None\n",
      "속도가 감소하였습니다. 20\n",
      "None\n",
      "속도가 증가하였습니다. 현재 속도 :  40\n",
      "None\n",
      "속도가 감소하였습니다. 20\n",
      "None\n",
      "속도가 감소하였습니다. 0\n",
      "None\n",
      "더 이상 속도를 줄일 수 없습니다. 0\n",
      "None\n",
      "더 이상 속도를 줄일 수 없습니다. 0\n",
      "None\n"
     ]
    }
   ],
   "source": [
    "# 결과값에 None 이 뜨는 이유가 뭘까요?\n",
    "car = Car()\n",
    "print(car.max_speed)\n",
    "print(car.speed)\n",
    "print(car.speed_up())\n",
    "print(car.speed_up())\n",
    "print(car.speed_up())\n",
    "print(car.speed_up())\n",
    "print(car.speed_down())\n",
    "print(car.speed_down())\n",
    "print(car.speed_down())\n",
    "print(car.speed_up())\n",
    "print(car.speed_down())\n",
    "print(car.speed_down())\n",
    "print(car.speed_down())\n",
    "print(car.speed_down())"
   ]
  },
  {
   "cell_type": "code",
   "execution_count": 4,
   "metadata": {},
   "outputs": [],
   "source": [
    "class SportCar(Car):\n",
    "    \n",
    "    def __init__(self):\n",
    "        super(SportCar,self).__init__()\n",
    "        self.max_speed = 200\n",
    "        self.speed = 0\n",
    "        \n",
    "    def speed_up(self):\n",
    "        if self.speed >= 200:\n",
    "            print('최고 속도를 넘을 수 없습니다.', self.speed)\n",
    "        else:\n",
    "            self.speed += 45\n",
    "            print('속도가 증가하였습니다. 현재 속도 : ', self.speed)   \n",
    "    \n",
    "    def speed_down(self):\n",
    "        if self.speed <= 0:\n",
    "            print('더 이상 속도를 줄일 수 없습니다.', self.speed)   \n",
    "        else:\n",
    "            self.speed -= 45\n",
    "            print('속도가 감소하였습니다.',self.speed)"
   ]
  },
  {
   "cell_type": "code",
   "execution_count": 5,
   "metadata": {},
   "outputs": [],
   "source": [
    "class Truck(Car):\n",
    "    \n",
    "    def __init__(self):\n",
    "        super(Truck, self).__init__()\n",
    "        self.max_speed = 100\n",
    "        self.speed = 0 \n",
    "        \n",
    "    def speed_up(self):\n",
    "        if self.speed >= 100:\n",
    "            print('최고 속도를 넘을 수 없습니다.', self.speed)\n",
    "        else:\n",
    "            self.speed += 15\n",
    "            print('속도가 증가하였습니다. 현재 속도 : ', self.speed)   \n",
    "    \n",
    "    def speed_down(self):\n",
    "        if self.speed <= 0:\n",
    "            print('더 이상 속도를 줄일 수 없습니다.', self.speed)   \n",
    "        else:\n",
    "            self.speed -= 15\n",
    "            print('속도가 감소하였습니다.',self.speed)"
   ]
  },
  {
   "cell_type": "code",
   "execution_count": 12,
   "metadata": {},
   "outputs": [],
   "source": [
    "s = SportCar()\n",
    "t = Truck()"
   ]
  },
  {
   "cell_type": "code",
   "execution_count": 24,
   "metadata": {},
   "outputs": [
    {
     "name": "stdout",
     "output_type": "stream",
     "text": [
      "자동차 제원\n",
      "----------------------------------------\n",
      "스포츠 카 최대 속력 :  200\n",
      "현재 속도 :  225 \n",
      "\n",
      "트럭 최대 속력 :  100\n",
      "현재 속도 :  90\n",
      "----------------------------------------\n",
      "----------------------------------------\n",
      "최고 속도를 넘을 수 없습니다. 225\n",
      "스포츠 카  None\n",
      "최고 속도를 넘을 수 없습니다. 225\n",
      "스포츠 카  None\n",
      "속도가 감소하였습니다. 180\n",
      "스포츠 카  None\n",
      "속도가 증가하였습니다. 현재 속도 :  225\n",
      "스포츠 카  None\n",
      "----------------------------------------\n",
      "----------------------------------------\n",
      "속도가 증가하였습니다. 현재 속도 :  105\n",
      "트럭  None\n",
      "최고 속도를 넘을 수 없습니다. 105\n",
      "트럭  None\n",
      "최고 속도를 넘을 수 없습니다. 105\n",
      "트럭  None\n",
      "최고 속도를 넘을 수 없습니다. 105\n",
      "트럭  None\n",
      "속도가 감소하였습니다. 90\n",
      "트럭  None\n"
     ]
    }
   ],
   "source": [
    "print('자동차 제원')\n",
    "print('-'*40)\n",
    "print('스포츠 카 최대 속력 : ',s.max_speed)\n",
    "print('현재 속도 : ',s.speed,'\\n')\n",
    "print('트럭 최대 속력 : ',t.max_speed)\n",
    "print('현재 속도 : ',t.speed)\n",
    "print('-'*40)\n",
    "print('-'*40)\n",
    "print('스포츠 카 ', s.speed_up())\n",
    "print('스포츠 카 ', s.speed_up())\n",
    "print('스포츠 카 ', s.speed_down())\n",
    "print('스포츠 카 ', s.speed_up())\n",
    "print('-'*40)\n",
    "print('-'*40)\n",
    "print('트럭 ', t.speed_up())\n",
    "print('트럭 ', t.speed_up())\n",
    "print('트럭 ', t.speed_up())\n",
    "print('트럭 ', t.speed_up())\n",
    "print('트럭 ', t.speed_down())\n",
    "\n"
   ]
  }
 ],
 "metadata": {
  "kernelspec": {
   "display_name": "Python 3",
   "language": "python",
   "name": "python3"
  },
  "language_info": {
   "codemirror_mode": {
    "name": "ipython",
    "version": 3
   },
   "file_extension": ".py",
   "mimetype": "text/x-python",
   "name": "python",
   "nbconvert_exporter": "python",
   "pygments_lexer": "ipython3",
   "version": "3.7.1"
  }
 },
 "nbformat": 4,
 "nbformat_minor": 2
}
