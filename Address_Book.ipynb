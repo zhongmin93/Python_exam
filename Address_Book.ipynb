{
 "cells": [
  {
   "cell_type": "code",
   "execution_count": 5,
   "metadata": {},
   "outputs": [],
   "source": [
    "class Contact :\n",
    "    def __init__(self, name, phone_number, e_mail, addr):\n",
    "        self.name = name\n",
    "        self.phone_number = phone_number\n",
    "        self.e_mail = e_mail\n",
    "        self.addr = addr\n",
    "        \n",
    "    def print_info(self):\n",
    "        print('Name :', self.name)\n",
    "        print('Phone_number :', self.phone_number)\n",
    "        print('E-mail :', self.e_mail)\n",
    "        print('Address :', self.addr)       "
   ]
  },
  {
   "cell_type": "code",
   "execution_count": 6,
   "metadata": {},
   "outputs": [],
   "source": [
    "def set_contact():\n",
    "    name = input('Name : ')\n",
    "    phone_number = input('Phone number : ')\n",
    "    e_mail = input('E-mail : ')\n",
    "    addr = input('Address : ')\n",
    "    contact = Contact(name, phone_number ,e_mail, addr)\n",
    "    return contact"
   ]
  },
  {
   "cell_type": "code",
   "execution_count": 7,
   "metadata": {},
   "outputs": [],
   "source": [
    "#메뉴 출력\n",
    "def print_menu():\n",
    "    print('1. 연락처 입력')\n",
    "    print('2. 연락처 출력')\n",
    "    print('3. 연락처 삭제')\n",
    "    print('4. 종료')\n",
    "    menu = input('메뉴 선택 : ')\n",
    "    return int(menu)"
   ]
  },
  {
   "cell_type": "code",
   "execution_count": 12,
   "metadata": {},
   "outputs": [],
   "source": [
    "#실행 했을 때\n",
    "def run():\n",
    "    contact_list = []\n",
    "    while True: #while 1:\n",
    "        menu = print_menu()\n",
    "        if menu == 1:\n",
    "            contact = set_contact()\n",
    "            contact_list.append(contact)\n",
    "        elif menu == 2:\n",
    "            print_contact(contact_list)\n",
    "        elif menu == 3:\n",
    "            name = input('Name : ')\n",
    "            delete_contact(contact_list, name)\n",
    "        elif menu == 4:\n",
    "            store_contact(contact_list)\n",
    "            break       "
   ]
  },
  {
   "cell_type": "code",
   "execution_count": 9,
   "metadata": {},
   "outputs": [],
   "source": [
    "#출력 기능\n",
    "def print_contact(contact_list):\n",
    "    for contact in contact_list:\n",
    "        contact.print_info()"
   ]
  },
  {
   "cell_type": "code",
   "execution_count": 10,
   "metadata": {},
   "outputs": [],
   "source": [
    "#삭제 기능\n",
    "def delete_contact(contact_list, name):\n",
    "    for i, contact in enumerate(contact_list):\n",
    "        if contact.name == name:\n",
    "            del contact_list[i]"
   ]
  },
  {
   "cell_type": "code",
   "execution_count": 14,
   "metadata": {},
   "outputs": [],
   "source": [
    "#종료할 때 저장 기능\n",
    "def store_contact(contact_list):\n",
    "    f = open('D:\\\\Python EXAM\\\\Adress Book\\\\Contact_DB.txt', 'wt')\n",
    "    for contact in contact_list:\n",
    "        f.write(contact.name + '\\n')\n",
    "        f.write(contact.phone_number + '\\n')\n",
    "        f.write(contact.e_mail + '\\n')\n",
    "        f.write(contact.addr + '\\n')\n",
    "    f.close()\n",
    "        "
   ]
  },
  {
   "cell_type": "code",
   "execution_count": 15,
   "metadata": {},
   "outputs": [
    {
     "name": "stdout",
     "output_type": "stream",
     "text": [
      "1. 연락처 입력\n",
      "2. 연락처 출력\n",
      "3. 연락처 삭제\n",
      "4. 종료\n",
      "메뉴 선택 : 1\n",
      "Name : 1\n",
      "Phone number : 1\n",
      "E-mail : 1\n",
      "Address : 1\n",
      "1. 연락처 입력\n",
      "2. 연락처 출력\n",
      "3. 연락처 삭제\n",
      "4. 종료\n",
      "메뉴 선택 : 2\n",
      "Name : 1\n",
      "Phone_number : 1\n",
      "E-mail : 1\n",
      "Address : 1\n",
      "1. 연락처 입력\n",
      "2. 연락처 출력\n",
      "3. 연락처 삭제\n",
      "4. 종료\n",
      "메뉴 선택 : 4\n"
     ]
    }
   ],
   "source": [
    "if __name__ == '__main__':\n",
    "    run()"
   ]
  },
  {
   "cell_type": "code",
   "execution_count": 4,
   "metadata": {},
   "outputs": [
    {
     "data": {
      "text/plain": [
       "'C:\\\\Users\\\\krit'"
      ]
     },
     "execution_count": 4,
     "metadata": {},
     "output_type": "execute_result"
    }
   ],
   "source": [
    "import os\n",
    "os.getcwd()"
   ]
  },
  {
   "cell_type": "code",
   "execution_count": null,
   "metadata": {},
   "outputs": [],
   "source": []
  },
  {
   "cell_type": "code",
   "execution_count": null,
   "metadata": {},
   "outputs": [],
   "source": []
  },
  {
   "cell_type": "code",
   "execution_count": null,
   "metadata": {},
   "outputs": [],
   "source": []
  },
  {
   "cell_type": "code",
   "execution_count": null,
   "metadata": {},
   "outputs": [],
   "source": []
  },
  {
   "cell_type": "code",
   "execution_count": null,
   "metadata": {},
   "outputs": [],
   "source": []
  },
  {
   "cell_type": "code",
   "execution_count": null,
   "metadata": {},
   "outputs": [],
   "source": []
  },
  {
   "cell_type": "code",
   "execution_count": null,
   "metadata": {},
   "outputs": [],
   "source": []
  },
  {
   "cell_type": "code",
   "execution_count": null,
   "metadata": {},
   "outputs": [],
   "source": []
  },
  {
   "cell_type": "code",
   "execution_count": null,
   "metadata": {},
   "outputs": [],
   "source": []
  }
 ],
 "metadata": {
  "kernelspec": {
   "display_name": "Python [conda env:root]",
   "language": "python",
   "name": "conda-root-py"
  },
  "language_info": {
   "codemirror_mode": {
    "name": "ipython",
    "version": 3
   },
   "file_extension": ".py",
   "mimetype": "text/x-python",
   "name": "python",
   "nbconvert_exporter": "python",
   "pygments_lexer": "ipython3",
   "version": "3.7.1"
  }
 },
 "nbformat": 4,
 "nbformat_minor": 2
}
