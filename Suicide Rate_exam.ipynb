{
 "cells": [
  {
   "cell_type": "markdown",
   "metadata": {},
   "source": [
    "1985 - 2016 자살율 관계 분석\n",
    "\n",
    "Dataset\n",
    "- country(국가)\n",
    "- year(년도)\n",
    "- sex(성별)\n",
    "- age(연령대)\n",
    "- sicides_no(???)\n",
    "- population(해당 국가,성별,연령대의 인구?)\n",
    "- suicide/100k pop (자살율)\n",
    "- country-year(국가-년도)\n",
    "- HDI for year(인간개발지수 = 행복지수)\n",
    "- gdp_for_year(년간 gdp지수)\n",
    "- gdp_per_capta(1인당 gdp지수)\n",
    "- generation(세대)"
   ]
  },
  {
   "cell_type": "code",
   "execution_count": 20,
   "metadata": {},
   "outputs": [],
   "source": [
    "import numpy as np\n",
    "import pandas as pd\n",
    "import matplotlib.pyplot as plt\n",
    "import seaborn as sns\n",
    "import warnings\n",
    "warnings.filterwarnings('ignore')"
   ]
  },
  {
   "cell_type": "code",
   "execution_count": 4,
   "metadata": {},
   "outputs": [],
   "source": [
    "data = pd.read_csv('D:\\Python EXAM\\Kaggle_Suicide Rate\\master\\master.csv')"
   ]
  },
  {
   "cell_type": "code",
   "execution_count": 5,
   "metadata": {},
   "outputs": [
    {
     "data": {
      "text/plain": [
       "(27820, 12)"
      ]
     },
     "execution_count": 5,
     "metadata": {},
     "output_type": "execute_result"
    }
   ],
   "source": [
    "data.shape"
   ]
  },
  {
   "cell_type": "code",
   "execution_count": 6,
   "metadata": {},
   "outputs": [
    {
     "data": {
      "text/plain": [
       "Index(['country', 'year', 'sex', 'age', 'suicides_no', 'population',\n",
       "       'suicides/100k pop', 'country-year', 'HDI for year',\n",
       "       ' gdp_for_year ($) ', 'gdp_per_capita ($)', 'generation'],\n",
       "      dtype='object')"
      ]
     },
     "execution_count": 6,
     "metadata": {},
     "output_type": "execute_result"
    }
   ],
   "source": [
    "data.columns"
   ]
  },
  {
   "cell_type": "code",
   "execution_count": 8,
   "metadata": {},
   "outputs": [
    {
     "data": {
      "text/html": [
       "<div>\n",
       "<style scoped>\n",
       "    .dataframe tbody tr th:only-of-type {\n",
       "        vertical-align: middle;\n",
       "    }\n",
       "\n",
       "    .dataframe tbody tr th {\n",
       "        vertical-align: top;\n",
       "    }\n",
       "\n",
       "    .dataframe thead th {\n",
       "        text-align: right;\n",
       "    }\n",
       "</style>\n",
       "<table border=\"1\" class=\"dataframe\">\n",
       "  <thead>\n",
       "    <tr style=\"text-align: right;\">\n",
       "      <th></th>\n",
       "      <th>country</th>\n",
       "      <th>year</th>\n",
       "      <th>sex</th>\n",
       "      <th>age</th>\n",
       "      <th>suicides_no</th>\n",
       "      <th>population</th>\n",
       "      <th>suicides/100k pop</th>\n",
       "      <th>country-year</th>\n",
       "      <th>HDI for year</th>\n",
       "      <th>gdp_for_year ($)</th>\n",
       "      <th>gdp_per_capita ($)</th>\n",
       "      <th>generation</th>\n",
       "    </tr>\n",
       "  </thead>\n",
       "  <tbody>\n",
       "    <tr>\n",
       "      <th>4945</th>\n",
       "      <td>Canada</td>\n",
       "      <td>1987</td>\n",
       "      <td>female</td>\n",
       "      <td>35-54 years</td>\n",
       "      <td>298</td>\n",
       "      <td>3176700</td>\n",
       "      <td>9.38</td>\n",
       "      <td>Canada1987</td>\n",
       "      <td>NaN</td>\n",
       "      <td>431,316,742,081</td>\n",
       "      <td>18124</td>\n",
       "      <td>Silent</td>\n",
       "    </tr>\n",
       "    <tr>\n",
       "      <th>22603</th>\n",
       "      <td>Singapore</td>\n",
       "      <td>2001</td>\n",
       "      <td>female</td>\n",
       "      <td>5-14 years</td>\n",
       "      <td>2</td>\n",
       "      <td>242800</td>\n",
       "      <td>0.82</td>\n",
       "      <td>Singapore2001</td>\n",
       "      <td>NaN</td>\n",
       "      <td>89,286,208,629</td>\n",
       "      <td>28774</td>\n",
       "      <td>Millenials</td>\n",
       "    </tr>\n",
       "    <tr>\n",
       "      <th>5062</th>\n",
       "      <td>Canada</td>\n",
       "      <td>1997</td>\n",
       "      <td>male</td>\n",
       "      <td>25-34 years</td>\n",
       "      <td>535</td>\n",
       "      <td>2359600</td>\n",
       "      <td>22.67</td>\n",
       "      <td>Canada1997</td>\n",
       "      <td>NaN</td>\n",
       "      <td>652,825,364,726</td>\n",
       "      <td>23245</td>\n",
       "      <td>Generation X</td>\n",
       "    </tr>\n",
       "    <tr>\n",
       "      <th>26440</th>\n",
       "      <td>United Arab Emirates</td>\n",
       "      <td>2008</td>\n",
       "      <td>male</td>\n",
       "      <td>15-24 years</td>\n",
       "      <td>18</td>\n",
       "      <td>776831</td>\n",
       "      <td>2.32</td>\n",
       "      <td>United Arab Emirates2008</td>\n",
       "      <td>NaN</td>\n",
       "      <td>315,474,615,739</td>\n",
       "      <td>48457</td>\n",
       "      <td>Millenials</td>\n",
       "    </tr>\n",
       "    <tr>\n",
       "      <th>26113</th>\n",
       "      <td>Ukraine</td>\n",
       "      <td>1990</td>\n",
       "      <td>female</td>\n",
       "      <td>15-24 years</td>\n",
       "      <td>165</td>\n",
       "      <td>3454600</td>\n",
       "      <td>4.78</td>\n",
       "      <td>Ukraine1990</td>\n",
       "      <td>0.705</td>\n",
       "      <td>81,456,918,679</td>\n",
       "      <td>1698</td>\n",
       "      <td>Generation X</td>\n",
       "    </tr>\n",
       "  </tbody>\n",
       "</table>\n",
       "</div>"
      ],
      "text/plain": [
       "                    country  year     sex          age  suicides_no  \\\n",
       "4945                 Canada  1987  female  35-54 years          298   \n",
       "22603             Singapore  2001  female   5-14 years            2   \n",
       "5062                 Canada  1997    male  25-34 years          535   \n",
       "26440  United Arab Emirates  2008    male  15-24 years           18   \n",
       "26113               Ukraine  1990  female  15-24 years          165   \n",
       "\n",
       "       population  suicides/100k pop              country-year  HDI for year  \\\n",
       "4945      3176700               9.38                Canada1987           NaN   \n",
       "22603      242800               0.82             Singapore2001           NaN   \n",
       "5062      2359600              22.67                Canada1997           NaN   \n",
       "26440      776831               2.32  United Arab Emirates2008           NaN   \n",
       "26113     3454600               4.78               Ukraine1990         0.705   \n",
       "\n",
       "       gdp_for_year ($)   gdp_per_capita ($)    generation  \n",
       "4945     431,316,742,081               18124        Silent  \n",
       "22603     89,286,208,629               28774    Millenials  \n",
       "5062     652,825,364,726               23245  Generation X  \n",
       "26440    315,474,615,739               48457    Millenials  \n",
       "26113     81,456,918,679                1698  Generation X  "
      ]
     },
     "execution_count": 8,
     "metadata": {},
     "output_type": "execute_result"
    }
   ],
   "source": [
    "data.sample(5)"
   ]
  },
  {
   "cell_type": "code",
   "execution_count": 10,
   "metadata": {},
   "outputs": [
    {
     "data": {
      "text/plain": [
       "country                   0\n",
       "year                      0\n",
       "sex                       0\n",
       "age                       0\n",
       "suicides_no               0\n",
       "population                0\n",
       "suicides/100k pop         0\n",
       "country-year              0\n",
       "HDI for year          19456\n",
       " gdp_for_year ($)         0\n",
       "gdp_per_capita ($)        0\n",
       "generation                0\n",
       "dtype: int64"
      ]
     },
     "execution_count": 10,
     "metadata": {},
     "output_type": "execute_result"
    }
   ],
   "source": [
    "data.isnull().sum()"
   ]
  },
  {
   "cell_type": "code",
   "execution_count": 11,
   "metadata": {},
   "outputs": [
    {
     "name": "stdout",
     "output_type": "stream",
     "text": [
      "<class 'pandas.core.frame.DataFrame'>\n",
      "RangeIndex: 27820 entries, 0 to 27819\n",
      "Data columns (total 12 columns):\n",
      "country               27820 non-null object\n",
      "year                  27820 non-null int64\n",
      "sex                   27820 non-null object\n",
      "age                   27820 non-null object\n",
      "suicides_no           27820 non-null int64\n",
      "population            27820 non-null int64\n",
      "suicides/100k pop     27820 non-null float64\n",
      "country-year          27820 non-null object\n",
      "HDI for year          8364 non-null float64\n",
      " gdp_for_year ($)     27820 non-null object\n",
      "gdp_per_capita ($)    27820 non-null int64\n",
      "generation            27820 non-null object\n",
      "dtypes: float64(2), int64(4), object(6)\n",
      "memory usage: 2.5+ MB\n"
     ]
    }
   ],
   "source": [
    "data.info()"
   ]
  },
  {
   "cell_type": "code",
   "execution_count": 12,
   "metadata": {},
   "outputs": [],
   "source": [
    "data=data.rename(columns={'country':'Country','year':'Year','sex':'Gender','age':'Age','suicides_no':'SuicidesNo','population':'Population','suicides/100k pop':'Suicides100kPop','country-year':'CountryYear','HDI for year':'HDIForYear',' gdp_for_year ($) ':'GdpForYearMoney','gdp_per_capita ($)':'GdpPerCapitalMoney','generation':'Generation'})"
   ]
  },
  {
   "cell_type": "code",
   "execution_count": 19,
   "metadata": {},
   "outputs": [
    {
     "name": "stdout",
     "output_type": "stream",
     "text": [
      "<class 'pandas.core.frame.DataFrame'>\n",
      "RangeIndex: 27820 entries, 0 to 27819\n",
      "Data columns (total 11 columns):\n",
      "Country               27820 non-null object\n",
      "Year                  27820 non-null int64\n",
      "Gender                27820 non-null object\n",
      "Age                   27820 non-null object\n",
      "SuicidesNo            27820 non-null int64\n",
      "Population            27820 non-null int64\n",
      "Suicides100kPop       27820 non-null float64\n",
      "CountryYear           27820 non-null object\n",
      "GdpForYearMoney       27820 non-null object\n",
      "GdpPerCapitalMoney    27820 non-null int64\n",
      "Generation            27820 non-null object\n",
      "dtypes: float64(1), int64(4), object(6)\n",
      "memory usage: 2.3+ MB\n"
     ]
    }
   ],
   "source": [
    "data.info()"
   ]
  },
  {
   "cell_type": "code",
   "execution_count": null,
   "metadata": {},
   "outputs": [],
   "source": [
    "# 국가,나이 남녀 각각 자살율에 대하여 가시화하기"
   ]
  },
  {
   "cell_type": "code",
   "execution_count": 18,
   "metadata": {},
   "outputs": [
    {
     "data": {
      "text/plain": [
       "(27820, 11)"
      ]
     },
     "execution_count": 18,
     "metadata": {},
     "output_type": "execute_result"
    }
   ],
   "source": [
    "data=data.drop(['HDIForYear'],axis=1)\n",
    "data.shape"
   ]
  },
  {
   "cell_type": "code",
   "execution_count": null,
   "metadata": {},
   "outputs": [],
   "source": [
    "data.groupby(['Country','Year','Gender'])"
   ]
  },
  {
   "cell_type": "code",
   "execution_count": 24,
   "metadata": {},
   "outputs": [
    {
     "data": {
      "text/plain": [
       "[Text(0.5, 0, 'Gender'), Text(0.5, 1.0, 'Suicidal rate by Gender')]"
      ]
     },
     "execution_count": 24,
     "metadata": {},
     "output_type": "execute_result"
    },
    {
     "data": {
      "image/png": "[encoded data removed]",
      "text/plain": [
       "<Figure size 1440x1800 with 3 Axes>"
      ]
     },
     "metadata": {
      "needs_background": "light"
     },
     "output_type": "display_data"
    }
   ],
   "source": [
    "figure, ((ax1,ax2,ax3)) = plt.subplots(nrows=3, ncols=1) #3행 1열의 3개 그래프\n",
    "figure.set_size_inches(20,25) #가로,세로 길이\n",
    "\n",
    "sns.barplot(data=data, x=\"Country\", y=\"Suicides100kPop\", ax=ax1)\n",
    "sns.barplot(data=data, x=\"Year\", y=\"Suicides100kPop\", ax=ax2)\n",
    "sns.barplot(data=data, x=\"Gender\", y=\"Suicides100kPop\", ax=ax3)\n",
    "\n",
    "ax1.set(ylabel='Country',title=\"Suicidal rate by Country\")\n",
    "ax2.set(xlabel='Year',title=\"Suicidal rate by Age group\")\n",
    "ax3.set(xlabel='Gender', title=\"Suicidal rate by Gender\")"
   ]
  },
  {
   "cell_type": "code",
   "execution_count": null,
   "metadata": {},
   "outputs": [],
   "source": []
  },
  {
   "cell_type": "code",
   "execution_count": null,
   "metadata": {},
   "outputs": [],
   "source": []
  },
  {
   "cell_type": "code",
   "execution_count": null,
   "metadata": {},
   "outputs": [],
   "source": []
  },
  {
   "cell_type": "code",
   "execution_count": null,
   "metadata": {},
   "outputs": [],
   "source": []
  },
  {
   "cell_type": "code",
   "execution_count": null,
   "metadata": {},
   "outputs": [],
   "source": []
  },
  {
   "cell_type": "code",
   "execution_count": null,
   "metadata": {},
   "outputs": [],
   "source": []
  },
  {
   "cell_type": "code",
   "execution_count": null,
   "metadata": {},
   "outputs": [],
   "source": []
  },
  {
   "cell_type": "code",
   "execution_count": null,
   "metadata": {},
   "outputs": [],
   "source": []
  },
  {
   "cell_type": "code",
   "execution_count": null,
   "metadata": {},
   "outputs": [],
   "source": []
  }
 ],
 "metadata": {
  "kernelspec": {
   "display_name": "Python [conda env:root]",
   "language": "python",
   "name": "conda-root-py"
  },
  "language_info": {
   "codemirror_mode": {
    "name": "ipython",
    "version": 3
   },
   "file_extension": ".py",
   "mimetype": "text/x-python",
   "name": "python",
   "nbconvert_exporter": "python",
   "pygments_lexer": "ipython3",
   "version": "3.7.1"
  }
 },
 "nbformat": 4,
 "nbformat_minor": 2
}
