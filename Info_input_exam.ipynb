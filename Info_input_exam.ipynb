{
 "cells": [
  {
   "cell_type": "code",
   "execution_count": 2,
   "metadata": {},
   "outputs": [],
   "source": [
    "class contact :\n",
    "    def __init__(self,name,phone_number,e_mail,addr):\n",
    "        self.name=name\n",
    "        self.phone_number=phone_number\n",
    "        self.e_mail=e_mail\n",
    "        self.addr=addr\n",
    "        \n",
    "    def print_info(self):\n",
    "        print('name : ', self.name)\n",
    "        print('phone number : ', self.phone_number)\n",
    "        print('e-mail : ', self.e_mail)\n",
    "        print('address : ', self.addr)\n",
    "        "
   ]
  },
  {
   "cell_type": "code",
   "execution_count": 3,
   "metadata": {},
   "outputs": [],
   "source": [
    "def run():\n",
    "    kim = contact('김일구','010-4546-8076','ialge@naver.com','Seoul')\n",
    "    kim.print_info()"
   ]
  },
  {
   "cell_type": "code",
   "execution_count": 4,
   "metadata": {},
   "outputs": [
    {
     "name": "stdout",
     "output_type": "stream",
     "text": [
      "name :  김일구\n",
      "phone number :  010-4546-8076\n",
      "e-mail :  ialge@naver.com\n",
      "address :  Seoul\n"
     ]
    }
   ],
   "source": [
    "run()"
   ]
  },
  {
   "cell_type": "code",
   "execution_count": 5,
   "metadata": {},
   "outputs": [],
   "source": [
    "def set_contact():\n",
    "    name = input('name :')\n",
    "    phon_number = input('phone number :')\n",
    "    e_mail = input('e-mail :')\n",
    "    addr = input('address :')\n",
    "\n",
    "def run():\n",
    "    set_contact()"
   ]
  },
  {
   "cell_type": "code",
   "execution_count": 6,
   "metadata": {},
   "outputs": [
    {
     "name": "stdout",
     "output_type": "stream",
     "text": [
      "name :홍길돋\n",
      "phone number :+7 10-421851-421\n",
      "e-mail :hongS2@naver.com\n",
      "address :Busan\n"
     ]
    }
   ],
   "source": [
    "run()"
   ]
  },
  {
   "cell_type": "code",
   "execution_count": null,
   "metadata": {},
   "outputs": [],
   "source": []
  },
  {
   "cell_type": "code",
   "execution_count": null,
   "metadata": {},
   "outputs": [],
   "source": []
  }
 ],
 "metadata": {
  "kernelspec": {
   "display_name": "Python [conda env:root]",
   "language": "python",
   "name": "conda-root-py"
  },
  "language_info": {
   "codemirror_mode": {
    "name": "ipython",
    "version": 3
   },
   "file_extension": ".py",
   "mimetype": "text/x-python",
   "name": "python",
   "nbconvert_exporter": "python",
   "pygments_lexer": "ipython3",
   "version": "3.7.1"
  }
 },
 "nbformat": 4,
 "nbformat_minor": 2
}
