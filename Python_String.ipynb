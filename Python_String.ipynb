{
 "cells": [
  {
   "cell_type": "markdown",
   "metadata": {},
   "source": [
    "# 문자열 다루기"
   ]
  },
  {
   "cell_type": "code",
   "execution_count": 1,
   "metadata": {},
   "outputs": [
    {
     "name": "stdout",
     "output_type": "stream",
     "text": [
      "@@@@@@\n",
      "@    @\n",
      "@    @\n",
      "@    @\n",
      "@    @\n",
      "@@@@@@\n"
     ]
    }
   ],
   "source": [
    "a = '@'\n",
    "b = 6\n",
    "print(a * b)\n",
    "print(a, '  ', a)\n",
    "print(a, '%4s' % a) # 형식지정 문자열 활용하기\n",
    "                    # a 앞에 4개의 공백\n",
    "print('%-4s' % a, a)# a 뒤에 4개의 공백\n",
    "print(a, '  ', a) # 직접 space bar로 공백주는 것\n",
    "print(a * b)"
   ]
  },
  {
   "cell_type": "code",
   "execution_count": 2,
   "metadata": {},
   "outputs": [
    {
     "name": "stdout",
     "output_type": "stream",
     "text": [
      "tom is 13 years old\n"
     ]
    }
   ],
   "source": [
    "name = 'tom'\n",
    "age = 13\n",
    "print('%s is %d years old' % (name, age))"
   ]
  },
  {
   "cell_type": "code",
   "execution_count": 3,
   "metadata": {},
   "outputs": [
    {
     "name": "stdout",
     "output_type": "stream",
     "text": [
      "10 / 3 = 3.33\n"
     ]
    }
   ],
   "source": [
    "a = 10; b = 3\n",
    "print('10 / 3 = %.2f' % (float)(a/3))"
   ]
  },
  {
   "cell_type": "code",
   "execution_count": 4,
   "metadata": {},
   "outputs": [
    {
     "data": {
      "text/plain": [
       "'내 이름은 홍길동입니다.'"
      ]
     },
     "execution_count": 4,
     "metadata": {},
     "output_type": "execute_result"
    }
   ],
   "source": [
    "# format 문자열 형식화\n",
    "'내 이름은 {}입니다.'.format('홍길동')"
   ]
  },
  {
   "cell_type": "code",
   "execution_count": 5,
   "metadata": {},
   "outputs": [
    {
     "data": {
      "text/plain": [
       "'철수의 수학 점수는 100점입니다.'"
      ]
     },
     "execution_count": 5,
     "metadata": {},
     "output_type": "execute_result"
    }
   ],
   "source": [
    "'{2}의 {0} 점수는 {1}점입니다.'.format('수학', 100, '철수')"
   ]
  },
  {
   "cell_type": "code",
   "execution_count": 6,
   "metadata": {},
   "outputs": [
    {
     "data": {
      "text/plain": [
       "'134,864,475         '"
      ]
     },
     "execution_count": 6,
     "metadata": {},
     "output_type": "execute_result"
    }
   ],
   "source": [
    "# 20개의 공백 기준으로 값은 앞으로, 해당 값을 1000단위로 끊어줌\n",
    "'{:<20,}'.format(134864475)"
   ]
  },
  {
   "cell_type": "code",
   "execution_count": 8,
   "metadata": {},
   "outputs": [
    {
     "name": "stdout",
     "output_type": "stream",
     "text": [
      "         3\n",
      "x       12\n",
      "-----------\n",
      "        36\n"
     ]
    }
   ],
   "source": [
    "a = 3; b = 12\n",
    "\n",
    "# format 문자열 형식화 예제\n",
    "\n",
    "print('{:>10}'.format(a))\n",
    "print('x','{:>8}'.format(b))\n",
    "print('-'*11)\n",
    "print('{:>10}'.format(a*b))"
   ]
  },
  {
   "cell_type": "code",
   "execution_count": 9,
   "metadata": {},
   "outputs": [
    {
     "name": "stdout",
     "output_type": "stream",
     "text": [
      "             123,456\n",
      "+              7,890\n",
      "------------------------------\n",
      "             131,346\n"
     ]
    }
   ],
   "source": [
    "a = 123456; b = 7890\n",
    "\n",
    "# 예제 2\n",
    "\n",
    "print('{:20,}'.format(a))\n",
    "print('+','{:>18,}'.format(b))\n",
    "print('-'*30)\n",
    "print('{:>20,}'.format(a+b))"
   ]
  },
  {
   "cell_type": "code",
   "execution_count": 11,
   "metadata": {},
   "outputs": [
    {
     "name": "stdout",
     "output_type": "stream",
     "text": [
      "홀수\n"
     ]
    }
   ],
   "source": [
    "# 홀,짝 구분 함수\n",
    "def even(x):\n",
    "    if (x % 2 == 0):\n",
    "        print('짝수')\n",
    "    else :\n",
    "        print('홀수')\n",
    "even(33)"
   ]
  },
  {
   "cell_type": "code",
   "execution_count": 12,
   "metadata": {},
   "outputs": [],
   "source": [
    "def f(x):\n",
    "    return 2 * x"
   ]
  },
  {
   "cell_type": "code",
   "execution_count": 13,
   "metadata": {},
   "outputs": [],
   "source": [
    "# 위 함수와 같다. (=함수의 요약)\n",
    "c = lambda x : 2 * x"
   ]
  },
  {
   "cell_type": "code",
   "execution_count": 14,
   "metadata": {},
   "outputs": [
    {
     "name": "stdout",
     "output_type": "stream",
     "text": [
      "주사위의 합이 4의 배수인 경우 :  (1, 3)\n",
      "주사위의 합이 4의 배수인 경우 :  (2, 2)\n",
      "주사위의 합이 4의 배수인 경우 :  (2, 6)\n",
      "주사위의 합이 4의 배수인 경우 :  (3, 1)\n",
      "주사위의 합이 4의 배수인 경우 :  (3, 5)\n",
      "주사위의 합이 4의 배수인 경우 :  (4, 4)\n",
      "주사위의 합이 4의 배수인 경우 :  (5, 3)\n",
      "주사위의 합이 4의 배수인 경우 :  (6, 2)\n",
      "주사위의 합이 4의 배수인 경우 :  (6, 6)\n"
     ]
    }
   ],
   "source": [
    "for i in range(6):\n",
    "    n1 = i + 1\n",
    "    for j in range(6):\n",
    "        n2 = j + 1\n",
    "        n = n1 + n2\n",
    "        if n % 4 == 0:\n",
    "            print('주사위의 합이 4의 배수인 경우 : ', (n1,n2))"
   ]
  }
 ],
 "metadata": {
  "kernelspec": {
   "display_name": "Python [conda env:root]",
   "language": "python",
   "name": "conda-root-py"
  },
  "language_info": {
   "codemirror_mode": {
    "name": "ipython",
    "version": 3
   },
   "file_extension": ".py",
   "mimetype": "text/x-python",
   "name": "python",
   "nbconvert_exporter": "python",
   "pygments_lexer": "ipython3",
   "version": "3.7.1"
  }
 },
 "nbformat": 4,
 "nbformat_minor": 2
}
